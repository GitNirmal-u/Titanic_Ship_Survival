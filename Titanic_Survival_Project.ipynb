{
  "cells": [
    {
      "attachments": {},
      "cell_type": "markdown",
      "metadata": {
        "id": "mT8ntGU7DrdC"
      },
      "source": [
        "# **PROJECT 1: TITANIC SHIP WRECK SURVIVAL PREDICTION**"
      ]
    },
    {
      "attachments": {},
      "cell_type": "markdown",
      "metadata": {
        "id": "lvaR328zD2az"
      },
      "source": [
        "# Data Set Description:\n",
        "Here in this project we are using machine learning algorithms to create a model that predicts which passengers survived the Titanic shipwreck.\n",
        "\n",
        "# Feature-Columns:\n",
        "\n",
        "\n",
        "*   survival ( 0 = No, 1 = Yes )\n",
        "*  pclass - means Ticket class (1=1st,2=2nd,3=3rd)\n",
        "\n",
        "*   sex (Male,Female)\n",
        "*   sibsp - means weather Siblings / Spouse on board\n",
        "\n",
        "*   parch - means weather Children / Parents on board\n",
        "*   ticket - means ticket number\n",
        "\n",
        "*   fare - means passengers ticket fare\n",
        "*   cabin - means Cabin Number\n",
        "\n",
        "*   embarked - means port of embarkation ( C = Cherbourg, Q = Queenstown, S = Southampton)\n",
        "\n",
        "\n",
        "\n",
        "\n",
        "\n",
        "\n",
        "\n",
        "\n",
        "\n",
        "\n",
        "\n",
        "\n",
        "\n",
        "\n",
        "\n",
        "\n",
        "\n",
        "\n",
        "\n"
      ]
    },
    {
      "attachments": {},
      "cell_type": "markdown",
      "metadata": {
        "id": "iACJXBhXHcRr"
      },
      "source": [
        "# **Import Libraries:**"
      ]
    },
    {
      "cell_type": "code",
      "execution_count": 3,
      "metadata": {
        "id": "L0axg7sWHhZ7"
      },
      "outputs": [],
      "source": [
        "import pandas as pd\n",
        "import matplotlib.pyplot as plt\n",
        "import seaborn as sns\n",
        "pd.set_option('display.max_columns',None)\n",
        "import warnings\n",
        "warnings.filterwarnings(\"ignore\")\n"
      ]
    },
    {
      "cell_type": "code",
      "execution_count": 4,
      "metadata": {
        "colab": {
          "base_uri": "https://localhost:8080/",
          "height": 206
        },
        "id": "hIodenq3I0rE",
        "outputId": "f6ad1c5a-14f3-46ee-9095-03613bf30469"
      },
      "outputs": [
        {
          "data": {
            "text/html": [
              "<div>\n",
              "<style scoped>\n",
              "    .dataframe tbody tr th:only-of-type {\n",
              "        vertical-align: middle;\n",
              "    }\n",
              "\n",
              "    .dataframe tbody tr th {\n",
              "        vertical-align: top;\n",
              "    }\n",
              "\n",
              "    .dataframe thead th {\n",
              "        text-align: right;\n",
              "    }\n",
              "</style>\n",
              "<table border=\"1\" class=\"dataframe\">\n",
              "  <thead>\n",
              "    <tr style=\"text-align: right;\">\n",
              "      <th></th>\n",
              "      <th>PassengerId</th>\n",
              "      <th>Survived</th>\n",
              "      <th>Pclass</th>\n",
              "      <th>Name</th>\n",
              "      <th>Sex</th>\n",
              "      <th>Age</th>\n",
              "      <th>SibSp</th>\n",
              "      <th>Parch</th>\n",
              "      <th>Ticket</th>\n",
              "      <th>Fare</th>\n",
              "      <th>Cabin</th>\n",
              "      <th>Embarked</th>\n",
              "    </tr>\n",
              "  </thead>\n",
              "  <tbody>\n",
              "    <tr>\n",
              "      <th>0</th>\n",
              "      <td>1</td>\n",
              "      <td>0</td>\n",
              "      <td>3</td>\n",
              "      <td>Braund, Mr. Owen Harris</td>\n",
              "      <td>male</td>\n",
              "      <td>22.0</td>\n",
              "      <td>1</td>\n",
              "      <td>0</td>\n",
              "      <td>A/5 21171</td>\n",
              "      <td>7.2500</td>\n",
              "      <td>NaN</td>\n",
              "      <td>S</td>\n",
              "    </tr>\n",
              "    <tr>\n",
              "      <th>1</th>\n",
              "      <td>2</td>\n",
              "      <td>1</td>\n",
              "      <td>1</td>\n",
              "      <td>Cumings, Mrs. John Bradley (Florence Briggs Th...</td>\n",
              "      <td>female</td>\n",
              "      <td>38.0</td>\n",
              "      <td>1</td>\n",
              "      <td>0</td>\n",
              "      <td>PC 17599</td>\n",
              "      <td>71.2833</td>\n",
              "      <td>C85</td>\n",
              "      <td>C</td>\n",
              "    </tr>\n",
              "    <tr>\n",
              "      <th>2</th>\n",
              "      <td>3</td>\n",
              "      <td>1</td>\n",
              "      <td>3</td>\n",
              "      <td>Heikkinen, Miss. Laina</td>\n",
              "      <td>female</td>\n",
              "      <td>26.0</td>\n",
              "      <td>0</td>\n",
              "      <td>0</td>\n",
              "      <td>STON/O2. 3101282</td>\n",
              "      <td>7.9250</td>\n",
              "      <td>NaN</td>\n",
              "      <td>S</td>\n",
              "    </tr>\n",
              "    <tr>\n",
              "      <th>3</th>\n",
              "      <td>4</td>\n",
              "      <td>1</td>\n",
              "      <td>1</td>\n",
              "      <td>Futrelle, Mrs. Jacques Heath (Lily May Peel)</td>\n",
              "      <td>female</td>\n",
              "      <td>35.0</td>\n",
              "      <td>1</td>\n",
              "      <td>0</td>\n",
              "      <td>113803</td>\n",
              "      <td>53.1000</td>\n",
              "      <td>C123</td>\n",
              "      <td>S</td>\n",
              "    </tr>\n",
              "    <tr>\n",
              "      <th>4</th>\n",
              "      <td>5</td>\n",
              "      <td>0</td>\n",
              "      <td>3</td>\n",
              "      <td>Allen, Mr. William Henry</td>\n",
              "      <td>male</td>\n",
              "      <td>35.0</td>\n",
              "      <td>0</td>\n",
              "      <td>0</td>\n",
              "      <td>373450</td>\n",
              "      <td>8.0500</td>\n",
              "      <td>NaN</td>\n",
              "      <td>S</td>\n",
              "    </tr>\n",
              "  </tbody>\n",
              "</table>\n",
              "</div>"
            ],
            "text/plain": [
              "   PassengerId  Survived  Pclass  \\\n",
              "0            1         0       3   \n",
              "1            2         1       1   \n",
              "2            3         1       3   \n",
              "3            4         1       1   \n",
              "4            5         0       3   \n",
              "\n",
              "                                                Name     Sex   Age  SibSp  \\\n",
              "0                            Braund, Mr. Owen Harris    male  22.0      1   \n",
              "1  Cumings, Mrs. John Bradley (Florence Briggs Th...  female  38.0      1   \n",
              "2                             Heikkinen, Miss. Laina  female  26.0      0   \n",
              "3       Futrelle, Mrs. Jacques Heath (Lily May Peel)  female  35.0      1   \n",
              "4                           Allen, Mr. William Henry    male  35.0      0   \n",
              "\n",
              "   Parch            Ticket     Fare Cabin Embarked  \n",
              "0      0         A/5 21171   7.2500   NaN        S  \n",
              "1      0          PC 17599  71.2833   C85        C  \n",
              "2      0  STON/O2. 3101282   7.9250   NaN        S  \n",
              "3      0            113803  53.1000  C123        S  \n",
              "4      0            373450   8.0500   NaN        S  "
            ]
          },
          "execution_count": 4,
          "metadata": {},
          "output_type": "execute_result"
        }
      ],
      "source": [
        "df = pd.read_csv(r\"D:\\Machine_Learning_Projects\\Titanic_Prediction_Project\\titanic_train.csv\")\n",
        "\n",
        "# Displaying first five observations.\n",
        "df.head()"
      ]
    },
    {
      "attachments": {},
      "cell_type": "markdown",
      "metadata": {
        "id": "-woUPKfeJZyD"
      },
      "source": [
        "# **EDA - Exploratory Data Analysis**"
      ]
    },
    {
      "attachments": {},
      "cell_type": "markdown",
      "metadata": {
        "id": "SfPhoKUDJgvk"
      },
      "source": [
        "**Shape:**"
      ]
    },
    {
      "cell_type": "code",
      "execution_count": 5,
      "metadata": {
        "colab": {
          "base_uri": "https://localhost:8080/"
        },
        "id": "vqTBsZcQJfGD",
        "outputId": "2dcf7fed-f155-4b84-edb3-0ae874a78c34"
      },
      "outputs": [
        {
          "name": "stdout",
          "output_type": "stream",
          "text": [
            "Shape of Data Frame: (891, 12)\n"
          ]
        }
      ],
      "source": [
        "print(\"Shape of Data Frame:\",df.shape)"
      ]
    },
    {
      "attachments": {},
      "cell_type": "markdown",
      "metadata": {
        "id": "SDekxGoLKHQS"
      },
      "source": [
        "**Data Types of Features:**"
      ]
    },
    {
      "cell_type": "code",
      "execution_count": 6,
      "metadata": {
        "colab": {
          "base_uri": "https://localhost:8080/"
        },
        "id": "DuUdQcoNKMy_",
        "outputId": "0d173ea9-7e85-4eb9-96fd-3414cd01f658"
      },
      "outputs": [
        {
          "name": "stdout",
          "output_type": "stream",
          "text": [
            "Data Types of Feature columns:\n",
            "PassengerId      int64\n",
            "Survived         int64\n",
            "Pclass           int64\n",
            "Name            object\n",
            "Sex             object\n",
            "Age            float64\n",
            "SibSp            int64\n",
            "Parch            int64\n",
            "Ticket          object\n",
            "Fare           float64\n",
            "Cabin           object\n",
            "Embarked        object\n",
            "dtype: object\n"
          ]
        }
      ],
      "source": [
        "print(\"Data Types of Feature columns:\")\n",
        "print(df.dtypes)"
      ]
    },
    {
      "attachments": {},
      "cell_type": "markdown",
      "metadata": {
        "id": "octCLXEVKp96"
      },
      "source": [
        "**Describe the data sets statistical information:**"
      ]
    },
    {
      "cell_type": "code",
      "execution_count": 7,
      "metadata": {
        "colab": {
          "base_uri": "https://localhost:8080/",
          "height": 300
        },
        "id": "PY3ZuC0kKbTT",
        "outputId": "2747f535-5f3e-43a0-aecc-e73796a45385"
      },
      "outputs": [
        {
          "data": {
            "text/html": [
              "<div>\n",
              "<style scoped>\n",
              "    .dataframe tbody tr th:only-of-type {\n",
              "        vertical-align: middle;\n",
              "    }\n",
              "\n",
              "    .dataframe tbody tr th {\n",
              "        vertical-align: top;\n",
              "    }\n",
              "\n",
              "    .dataframe thead th {\n",
              "        text-align: right;\n",
              "    }\n",
              "</style>\n",
              "<table border=\"1\" class=\"dataframe\">\n",
              "  <thead>\n",
              "    <tr style=\"text-align: right;\">\n",
              "      <th></th>\n",
              "      <th>PassengerId</th>\n",
              "      <th>Survived</th>\n",
              "      <th>Pclass</th>\n",
              "      <th>Age</th>\n",
              "      <th>SibSp</th>\n",
              "      <th>Parch</th>\n",
              "      <th>Fare</th>\n",
              "    </tr>\n",
              "  </thead>\n",
              "  <tbody>\n",
              "    <tr>\n",
              "      <th>count</th>\n",
              "      <td>891.000000</td>\n",
              "      <td>891.000000</td>\n",
              "      <td>891.000000</td>\n",
              "      <td>714.000000</td>\n",
              "      <td>891.000000</td>\n",
              "      <td>891.000000</td>\n",
              "      <td>891.000000</td>\n",
              "    </tr>\n",
              "    <tr>\n",
              "      <th>mean</th>\n",
              "      <td>446.000000</td>\n",
              "      <td>0.383838</td>\n",
              "      <td>2.308642</td>\n",
              "      <td>29.699118</td>\n",
              "      <td>0.523008</td>\n",
              "      <td>0.381594</td>\n",
              "      <td>32.204208</td>\n",
              "    </tr>\n",
              "    <tr>\n",
              "      <th>std</th>\n",
              "      <td>257.353842</td>\n",
              "      <td>0.486592</td>\n",
              "      <td>0.836071</td>\n",
              "      <td>14.526497</td>\n",
              "      <td>1.102743</td>\n",
              "      <td>0.806057</td>\n",
              "      <td>49.693429</td>\n",
              "    </tr>\n",
              "    <tr>\n",
              "      <th>min</th>\n",
              "      <td>1.000000</td>\n",
              "      <td>0.000000</td>\n",
              "      <td>1.000000</td>\n",
              "      <td>0.420000</td>\n",
              "      <td>0.000000</td>\n",
              "      <td>0.000000</td>\n",
              "      <td>0.000000</td>\n",
              "    </tr>\n",
              "    <tr>\n",
              "      <th>25%</th>\n",
              "      <td>223.500000</td>\n",
              "      <td>0.000000</td>\n",
              "      <td>2.000000</td>\n",
              "      <td>20.125000</td>\n",
              "      <td>0.000000</td>\n",
              "      <td>0.000000</td>\n",
              "      <td>7.910400</td>\n",
              "    </tr>\n",
              "    <tr>\n",
              "      <th>50%</th>\n",
              "      <td>446.000000</td>\n",
              "      <td>0.000000</td>\n",
              "      <td>3.000000</td>\n",
              "      <td>28.000000</td>\n",
              "      <td>0.000000</td>\n",
              "      <td>0.000000</td>\n",
              "      <td>14.454200</td>\n",
              "    </tr>\n",
              "    <tr>\n",
              "      <th>75%</th>\n",
              "      <td>668.500000</td>\n",
              "      <td>1.000000</td>\n",
              "      <td>3.000000</td>\n",
              "      <td>38.000000</td>\n",
              "      <td>1.000000</td>\n",
              "      <td>0.000000</td>\n",
              "      <td>31.000000</td>\n",
              "    </tr>\n",
              "    <tr>\n",
              "      <th>max</th>\n",
              "      <td>891.000000</td>\n",
              "      <td>1.000000</td>\n",
              "      <td>3.000000</td>\n",
              "      <td>80.000000</td>\n",
              "      <td>8.000000</td>\n",
              "      <td>6.000000</td>\n",
              "      <td>512.329200</td>\n",
              "    </tr>\n",
              "  </tbody>\n",
              "</table>\n",
              "</div>"
            ],
            "text/plain": [
              "       PassengerId    Survived      Pclass         Age       SibSp  \\\n",
              "count   891.000000  891.000000  891.000000  714.000000  891.000000   \n",
              "mean    446.000000    0.383838    2.308642   29.699118    0.523008   \n",
              "std     257.353842    0.486592    0.836071   14.526497    1.102743   \n",
              "min       1.000000    0.000000    1.000000    0.420000    0.000000   \n",
              "25%     223.500000    0.000000    2.000000   20.125000    0.000000   \n",
              "50%     446.000000    0.000000    3.000000   28.000000    0.000000   \n",
              "75%     668.500000    1.000000    3.000000   38.000000    1.000000   \n",
              "max     891.000000    1.000000    3.000000   80.000000    8.000000   \n",
              "\n",
              "            Parch        Fare  \n",
              "count  891.000000  891.000000  \n",
              "mean     0.381594   32.204208  \n",
              "std      0.806057   49.693429  \n",
              "min      0.000000    0.000000  \n",
              "25%      0.000000    7.910400  \n",
              "50%      0.000000   14.454200  \n",
              "75%      0.000000   31.000000  \n",
              "max      6.000000  512.329200  "
            ]
          },
          "execution_count": 7,
          "metadata": {},
          "output_type": "execute_result"
        }
      ],
      "source": [
        "df.describe()"
      ]
    },
    {
      "attachments": {},
      "cell_type": "markdown",
      "metadata": {
        "id": "Qa8Nl4jkLFga"
      },
      "source": [
        "**Duplicate Values:**"
      ]
    },
    {
      "cell_type": "code",
      "execution_count": 8,
      "metadata": {
        "colab": {
          "base_uri": "https://localhost:8080/"
        },
        "id": "K22hA5FpLLU5",
        "outputId": "6f03159b-6bd2-440b-fffe-c75a775f6b52"
      },
      "outputs": [
        {
          "name": "stdout",
          "output_type": "stream",
          "text": [
            "Number of duplicate values: 0\n"
          ]
        }
      ],
      "source": [
        "print(\"Number of duplicate values:\",df.duplicated().sum())"
      ]
    },
    {
      "attachments": {},
      "cell_type": "markdown",
      "metadata": {
        "id": "7xNs9QRJLjD7"
      },
      "source": [
        "**Missing Values:**\n",
        "\n",
        "\n",
        "*    177 missing values in 'Age'\n",
        "*   687 missing values in 'Cabin'\n",
        "\n",
        "\n"
      ]
    },
    {
      "cell_type": "code",
      "execution_count": 9,
      "metadata": {
        "colab": {
          "base_uri": "https://localhost:8080/"
        },
        "id": "B3R13_NALn7M",
        "outputId": "c600eee1-a5c9-4eaf-d932-5f96e94709a8"
      },
      "outputs": [
        {
          "name": "stdout",
          "output_type": "stream",
          "text": [
            "Null values in Data Frame:\n",
            "\n",
            "PassengerId      0\n",
            "Survived         0\n",
            "Pclass           0\n",
            "Name             0\n",
            "Sex              0\n",
            "Age            177\n",
            "SibSp            0\n",
            "Parch            0\n",
            "Ticket           0\n",
            "Fare             0\n",
            "Cabin          687\n",
            "Embarked         2\n",
            "dtype: int64\n"
          ]
        }
      ],
      "source": [
        "print(\"Null values in Data Frame:\\n\")\n",
        "print(df.isna().sum())"
      ]
    },
    {
      "attachments": {},
      "cell_type": "markdown",
      "metadata": {
        "id": "Ar0D4HMbc1Jg"
      },
      "source": [
        "**Missing Value Visualization:**"
      ]
    },
    {
      "cell_type": "code",
      "execution_count": 10,
      "metadata": {
        "colab": {
          "base_uri": "https://localhost:8080/",
          "height": 438
        },
        "id": "ePfizmn7M59T",
        "outputId": "f0430cb2-e6b8-4ea0-dd4e-df04eb744843"
      },
      "outputs": [
        {
          "data": {
            "image/png": "[encoded data removed]",
            "text/plain": [
              "<Figure size 500x400 with 1 Axes>"
            ]
          },
          "metadata": {},
          "output_type": "display_data"
        }
      ],
      "source": [
        "plt.figure(figsize=(5,4))\n",
        "sns.heatmap(df.isnull(),xticklabels=True,yticklabels=False,cbar = False,cmap='plasma')\n",
        "plt.show()"
      ]
    },
    {
      "attachments": {},
      "cell_type": "markdown",
      "metadata": {
        "id": "5PUWecsOP7_j"
      },
      "source": [
        "**Insights from heatmap:**\n",
        "\n",
        "*   There are missing values in 'Age' and 'Cabin' columns.\n",
        "*   'Cabin' column is having high density of missing values.\n",
        "\n"
      ]
    },
    {
      "attachments": {},
      "cell_type": "markdown",
      "metadata": {
        "id": "4QI2zeyVc-sM"
      },
      "source": [
        "**Count of Survived & Deceased - Visualization:**"
      ]
    },
    {
      "cell_type": "code",
      "execution_count": 11,
      "metadata": {
        "colab": {
          "base_uri": "https://localhost:8080/",
          "height": 388
        },
        "id": "ZZSWq1KLRWQR",
        "outputId": "cd4ea6af-5474-4876-c8f7-1056b65884bc"
      },
      "outputs": [
        {
          "data": {
            "image/png": "[encoded data removed]",
            "text/plain": [
              "<Figure size 500x400 with 1 Axes>"
            ]
          },
          "metadata": {},
          "output_type": "display_data"
        }
      ],
      "source": [
        "plt.figure(figsize=(5,4))\n",
        "sns.set_style('whitegrid')\n",
        "ax = sns.countplot(x='Survived',data = df,palette=['red','green'])\n",
        "plt.xticks([0,1],['Deceased','Survived'])\n",
        "plt.show()\n"
      ]
    },
    {
      "attachments": {},
      "cell_type": "markdown",
      "metadata": {
        "id": "rd9xtNyQdoKh"
      },
      "source": [
        "**Insights from countplot:**\n",
        "\n",
        "* Red bar displays count of deceased people and it is around 550 in numbers.\n",
        "* Green bar displays count of people those who survived and it is around 350.\n",
        "\n"
      ]
    },
    {
      "attachments": {},
      "cell_type": "markdown",
      "metadata": {
        "id": "t_FGbY7BdNXT"
      },
      "source": [
        "**Count of Survival - with Filter : Gender**"
      ]
    },
    {
      "cell_type": "code",
      "execution_count": 12,
      "metadata": {
        "colab": {
          "base_uri": "https://localhost:8080/",
          "height": 388
        },
        "id": "vrFciJfheKgh",
        "outputId": "c9b322ff-eea1-40a6-d15e-be46d7a8e5ef"
      },
      "outputs": [
        {
          "data": {
            "image/png": "[encoded data removed]",
            "text/plain": [
              "<Figure size 500x400 with 1 Axes>"
            ]
          },
          "metadata": {},
          "output_type": "display_data"
        }
      ],
      "source": [
        "plt.figure(figsize=(5,4))\n",
        "sns.countplot(x='Survived',data=df,palette=['red','green'],hue='Sex')\n",
        "plt.xticks([0,1],['deceased','survived'])\n",
        "plt.show()\n"
      ]
    },
    {
      "attachments": {},
      "cell_type": "markdown",
      "metadata": {
        "id": "NnVVODcBiwC-"
      },
      "source": [
        "**Insights from above graph (Count plot):**\n",
        "\n",
        "*   Out of the deceased people majority are Males.\n",
        "*   Out of the survived people majority are Females.\n",
        "\n"
      ]
    },
    {
      "attachments": {},
      "cell_type": "markdown",
      "metadata": {
        "id": "3s0waq9tdfhS"
      },
      "source": [
        "**Survival by Passenger class:**"
      ]
    },
    {
      "cell_type": "code",
      "execution_count": 13,
      "metadata": {
        "colab": {
          "base_uri": "https://localhost:8080/",
          "height": 449
        },
        "id": "Ksk6x9mejQ-x",
        "outputId": "363576b5-2cfe-422f-e6dc-1bfeb842732b"
      },
      "outputs": [
        {
          "data": {
            "image/png": "[encoded data removed]",
            "text/plain": [
              "<Figure size 640x480 with 1 Axes>"
            ]
          },
          "metadata": {},
          "output_type": "display_data"
        }
      ],
      "source": [
        "sns.set_style(style='whitegrid')\n",
        "sns.countplot(x='Survived',data = df,palette=['red','green','yellow'],hue='Pclass')\n",
        "plt.xticks([0,1],['deceased','survived'])\n",
        "plt.show()\n"
      ]
    },
    {
      "attachments": {},
      "cell_type": "markdown",
      "metadata": {
        "id": "sXg0DPYVkzs5"
      },
      "source": [
        "**Insight from count plot:**\n",
        "\n",
        "* Out of the deceased category of people majority belongs to 3rd class passengers.\n",
        "*   Out of the survived category of people majority are from 1st class passengers.\n",
        "\n"
      ]
    },
    {
      "attachments": {},
      "cell_type": "markdown",
      "metadata": {
        "id": "VWCSvQHidp1L"
      },
      "source": [
        "**Age Distribution:**"
      ]
    },
    {
      "cell_type": "code",
      "execution_count": 14,
      "metadata": {
        "colab": {
          "base_uri": "https://localhost:8080/",
          "height": 449
        },
        "id": "vYcK-tUJl214",
        "outputId": "7ed3c399-dc88-48a4-e386-3e7629dddf3c"
      },
      "outputs": [
        {
          "data": {
            "image/png": "[encoded data removed]",
            "text/plain": [
              "<Figure size 640x480 with 1 Axes>"
            ]
          },
          "metadata": {},
          "output_type": "display_data"
        }
      ],
      "source": [
        "sns.distplot(df['Age'].dropna(),kde=False,color='blue',bins=40)\n",
        "plt.show()"
      ]
    },
    {
      "attachments": {},
      "cell_type": "markdown",
      "metadata": {
        "id": "-a2t8IaToFF4"
      },
      "source": [
        "**Insight from distplot() of 'Age':**\n",
        "\n",
        "*   Majority of the passengers belongs to age category between around 18 and 30.\n",
        "*   Children and Elderly people are very less in numbers.\n",
        "\n"
      ]
    },
    {
      "attachments": {},
      "cell_type": "markdown",
      "metadata": {
        "id": "Oltf_HCXd35R"
      },
      "source": [
        "**Count of Siblings/Spouse:**"
      ]
    },
    {
      "cell_type": "code",
      "execution_count": 15,
      "metadata": {
        "colab": {
          "base_uri": "https://localhost:8080/",
          "height": 465
        },
        "id": "W8otL-6_ojJ2",
        "outputId": "56bcf8c6-58cf-40f5-8c82-7822898a2623"
      },
      "outputs": [
        {
          "data": {
            "image/png": "[encoded data removed]",
            "text/plain": [
              "<Figure size 900x500 with 1 Axes>"
            ]
          },
          "metadata": {},
          "output_type": "display_data"
        }
      ],
      "source": [
        "plt.figure(figsize=(9,5))\n",
        "sns.countplot(x='SibSp',data=df,palette='rainbow')\n",
        "plt.xticks([0,1,2,3,4,5,8],['No SbSp','1 SbSp','2 SbSp','3 SbSp','4 SbSp','5 SbSp','8SbSp'])\n",
        "plt.show()"
      ]
    },
    {
      "attachments": {},
      "cell_type": "markdown",
      "metadata": {
        "id": "y4X13Fn3qZjY"
      },
      "source": [
        "**Insight from countplot of Siblings/Spouse:**\n",
        "\n",
        "*   Majority of passengers donot have either their siblings or spouse on board.\n",
        "*   Around 205 passengerd had their Spouse/Sibling on board and that too only one number.\n",
        "\n"
      ]
    },
    {
      "attachments": {},
      "cell_type": "markdown",
      "metadata": {
        "id": "tG29BhY4eKXo"
      },
      "source": [
        "**Boarding Port - Visualization:**"
      ]
    },
    {
      "cell_type": "code",
      "execution_count": 16,
      "metadata": {
        "colab": {
          "base_uri": "https://localhost:8080/",
          "height": 367
        },
        "id": "F3Dz1-wwq7J2",
        "outputId": "e92d13d6-bf57-4fba-bac5-1f06f80d25c9"
      },
      "outputs": [
        {
          "data": {
            "image/png": "[encoded data removed]",
            "text/plain": [
              "<Figure size 500x400 with 1 Axes>"
            ]
          },
          "metadata": {},
          "output_type": "display_data"
        }
      ],
      "source": [
        "plt.figure(figsize=(5,4))\n",
        "port_count = df['Embarked'].value_counts()\n",
        "labels = [\"Southampton\", \"Cherbourg\", \"Queenstown\"]\n",
        "plt.pie(port_count,labels=labels,autopct='%1.1f%%',startangle=90)\n",
        "plt.axis('equal')\n",
        "plt.title('Passengers by Embarked port')\n",
        "plt.show()"
      ]
    },
    {
      "attachments": {},
      "cell_type": "markdown",
      "metadata": {
        "id": "ZB1DiI01NGrZ"
      },
      "source": [
        "**Insight from pie chart:**\n",
        "\n",
        "*   Majority of passengers boarded ship at Southampton port.\n",
        "*   Very few percentage of people boarded the ship at Queenstown port.\n",
        "\n",
        "\n"
      ]
    },
    {
      "attachments": {},
      "cell_type": "markdown",
      "metadata": {
        "id": "XHpJ1FSwoKOM"
      },
      "source": [
        "**Age by Passenger class:**"
      ]
    },
    {
      "cell_type": "code",
      "execution_count": 17,
      "metadata": {
        "colab": {
          "base_uri": "https://localhost:8080/",
          "height": 465
        },
        "id": "cVp03wiUoWSB",
        "outputId": "1fea00d9-9735-470c-cd10-6d539b125f38"
      },
      "outputs": [
        {
          "data": {
            "image/png": "[encoded data removed]",
            "text/plain": [
              "<Figure size 600x500 with 1 Axes>"
            ]
          },
          "metadata": {},
          "output_type": "display_data"
        }
      ],
      "source": [
        "plt.figure(figsize=(6,5))\n",
        "sns.boxplot(data=df,x=df['Pclass'],y=df['Age'],palette='winter')\n",
        "plt.show()"
      ]
    },
    {
      "attachments": {},
      "cell_type": "markdown",
      "metadata": {
        "id": "7dAILd36pY-f"
      },
      "source": [
        "**Insight from Boxplot:**\n",
        "\n",
        "Average age of passengers belonging to different passenger class.\n",
        "\n",
        "\n",
        "*   1st class - Around 37 years old\n",
        "*   2nd class - Around 28 years old\n",
        "\n",
        "*   3rd class - Around 24 years old\n",
        "\n",
        "\n",
        "\n",
        "\n",
        "\n",
        "\n",
        "\n",
        "\n",
        "\n",
        "\n",
        "\n"
      ]
    },
    {
      "attachments": {},
      "cell_type": "markdown",
      "metadata": {
        "id": "mwjsqWNHqYfI"
      },
      "source": [
        "# **Data Cleaning**"
      ]
    },
    {
      "cell_type": "code",
      "execution_count": 18,
      "metadata": {
        "id": "FXo255usqcFs"
      },
      "outputs": [],
      "source": [
        "# Removing column 'Cabin' as it is having huge number of missing values\n",
        "df.drop(columns='Cabin',axis= 1, inplace= True)"
      ]
    },
    {
      "cell_type": "code",
      "execution_count": 19,
      "metadata": {
        "id": "M35W-YCIqzQV"
      },
      "outputs": [],
      "source": [
        "# Filling the missing values in age column:\n",
        "df['Age'].fillna(df['Age'].mean(),inplace=True)\n",
        "df['Embarked'].fillna(df['Embarked'].mode()[0],inplace=True)"
      ]
    },
    {
      "cell_type": "code",
      "execution_count": 20,
      "metadata": {
        "id": "Ow_RyDugrl6H"
      },
      "outputs": [],
      "source": [
        "# Removing unwanted columns:\n",
        "df.drop(columns=['PassengerId','Ticket','Name'],inplace=True)"
      ]
    },
    {
      "cell_type": "code",
      "execution_count": 21,
      "metadata": {
        "colab": {
          "base_uri": "https://localhost:8080/"
        },
        "id": "7lY8Ke_OsN91",
        "outputId": "cc881fae-679f-443c-b329-ab4965a06185"
      },
      "outputs": [
        {
          "data": {
            "text/plain": [
              "Survived    0\n",
              "Pclass      0\n",
              "Sex         0\n",
              "Age         0\n",
              "SibSp       0\n",
              "Parch       0\n",
              "Fare        0\n",
              "Embarked    0\n",
              "dtype: int64"
            ]
          },
          "execution_count": 21,
          "metadata": {},
          "output_type": "execute_result"
        }
      ],
      "source": [
        "# Verifying Null values:\n",
        "df.isna().sum()"
      ]
    },
    {
      "attachments": {},
      "cell_type": "markdown",
      "metadata": {
        "id": "ORPiCBoUwJiz"
      },
      "source": [
        "**Label Encoding: 'Sex' & 'Embarked'**"
      ]
    },
    {
      "cell_type": "code",
      "execution_count": 22,
      "metadata": {
        "id": "s1VSCFHAwFSq"
      },
      "outputs": [],
      "source": [
        "from sklearn.preprocessing import LabelEncoder\n",
        "le = LabelEncoder()\n",
        "df['Sex'] = le.fit_transform(df['Sex'])\n",
        "df['Embarked'] = le.fit_transform(df['Embarked'])\n",
        "\n"
      ]
    },
    {
      "cell_type": "code",
      "execution_count": 23,
      "metadata": {
        "colab": {
          "base_uri": "https://localhost:8080/",
          "height": 423
        },
        "id": "Aq__pUJSzeU8",
        "outputId": "f132d395-0f10-4c29-8b24-94fb80027225"
      },
      "outputs": [
        {
          "data": {
            "text/html": [
              "<div>\n",
              "<style scoped>\n",
              "    .dataframe tbody tr th:only-of-type {\n",
              "        vertical-align: middle;\n",
              "    }\n",
              "\n",
              "    .dataframe tbody tr th {\n",
              "        vertical-align: top;\n",
              "    }\n",
              "\n",
              "    .dataframe thead th {\n",
              "        text-align: right;\n",
              "    }\n",
              "</style>\n",
              "<table border=\"1\" class=\"dataframe\">\n",
              "  <thead>\n",
              "    <tr style=\"text-align: right;\">\n",
              "      <th></th>\n",
              "      <th>Survived</th>\n",
              "      <th>Pclass</th>\n",
              "      <th>Sex</th>\n",
              "      <th>Age</th>\n",
              "      <th>SibSp</th>\n",
              "      <th>Parch</th>\n",
              "      <th>Fare</th>\n",
              "      <th>Embarked</th>\n",
              "    </tr>\n",
              "  </thead>\n",
              "  <tbody>\n",
              "    <tr>\n",
              "      <th>0</th>\n",
              "      <td>0</td>\n",
              "      <td>3</td>\n",
              "      <td>1</td>\n",
              "      <td>22.000000</td>\n",
              "      <td>1</td>\n",
              "      <td>0</td>\n",
              "      <td>7.2500</td>\n",
              "      <td>2</td>\n",
              "    </tr>\n",
              "    <tr>\n",
              "      <th>1</th>\n",
              "      <td>1</td>\n",
              "      <td>1</td>\n",
              "      <td>0</td>\n",
              "      <td>38.000000</td>\n",
              "      <td>1</td>\n",
              "      <td>0</td>\n",
              "      <td>71.2833</td>\n",
              "      <td>0</td>\n",
              "    </tr>\n",
              "    <tr>\n",
              "      <th>2</th>\n",
              "      <td>1</td>\n",
              "      <td>3</td>\n",
              "      <td>0</td>\n",
              "      <td>26.000000</td>\n",
              "      <td>0</td>\n",
              "      <td>0</td>\n",
              "      <td>7.9250</td>\n",
              "      <td>2</td>\n",
              "    </tr>\n",
              "    <tr>\n",
              "      <th>3</th>\n",
              "      <td>1</td>\n",
              "      <td>1</td>\n",
              "      <td>0</td>\n",
              "      <td>35.000000</td>\n",
              "      <td>1</td>\n",
              "      <td>0</td>\n",
              "      <td>53.1000</td>\n",
              "      <td>2</td>\n",
              "    </tr>\n",
              "    <tr>\n",
              "      <th>4</th>\n",
              "      <td>0</td>\n",
              "      <td>3</td>\n",
              "      <td>1</td>\n",
              "      <td>35.000000</td>\n",
              "      <td>0</td>\n",
              "      <td>0</td>\n",
              "      <td>8.0500</td>\n",
              "      <td>2</td>\n",
              "    </tr>\n",
              "    <tr>\n",
              "      <th>...</th>\n",
              "      <td>...</td>\n",
              "      <td>...</td>\n",
              "      <td>...</td>\n",
              "      <td>...</td>\n",
              "      <td>...</td>\n",
              "      <td>...</td>\n",
              "      <td>...</td>\n",
              "      <td>...</td>\n",
              "    </tr>\n",
              "    <tr>\n",
              "      <th>886</th>\n",
              "      <td>0</td>\n",
              "      <td>2</td>\n",
              "      <td>1</td>\n",
              "      <td>27.000000</td>\n",
              "      <td>0</td>\n",
              "      <td>0</td>\n",
              "      <td>13.0000</td>\n",
              "      <td>2</td>\n",
              "    </tr>\n",
              "    <tr>\n",
              "      <th>887</th>\n",
              "      <td>1</td>\n",
              "      <td>1</td>\n",
              "      <td>0</td>\n",
              "      <td>19.000000</td>\n",
              "      <td>0</td>\n",
              "      <td>0</td>\n",
              "      <td>30.0000</td>\n",
              "      <td>2</td>\n",
              "    </tr>\n",
              "    <tr>\n",
              "      <th>888</th>\n",
              "      <td>0</td>\n",
              "      <td>3</td>\n",
              "      <td>0</td>\n",
              "      <td>29.699118</td>\n",
              "      <td>1</td>\n",
              "      <td>2</td>\n",
              "      <td>23.4500</td>\n",
              "      <td>2</td>\n",
              "    </tr>\n",
              "    <tr>\n",
              "      <th>889</th>\n",
              "      <td>1</td>\n",
              "      <td>1</td>\n",
              "      <td>1</td>\n",
              "      <td>26.000000</td>\n",
              "      <td>0</td>\n",
              "      <td>0</td>\n",
              "      <td>30.0000</td>\n",
              "      <td>0</td>\n",
              "    </tr>\n",
              "    <tr>\n",
              "      <th>890</th>\n",
              "      <td>0</td>\n",
              "      <td>3</td>\n",
              "      <td>1</td>\n",
              "      <td>32.000000</td>\n",
              "      <td>0</td>\n",
              "      <td>0</td>\n",
              "      <td>7.7500</td>\n",
              "      <td>1</td>\n",
              "    </tr>\n",
              "  </tbody>\n",
              "</table>\n",
              "<p>891 rows × 8 columns</p>\n",
              "</div>"
            ],
            "text/plain": [
              "     Survived  Pclass  Sex        Age  SibSp  Parch     Fare  Embarked\n",
              "0           0       3    1  22.000000      1      0   7.2500         2\n",
              "1           1       1    0  38.000000      1      0  71.2833         0\n",
              "2           1       3    0  26.000000      0      0   7.9250         2\n",
              "3           1       1    0  35.000000      1      0  53.1000         2\n",
              "4           0       3    1  35.000000      0      0   8.0500         2\n",
              "..        ...     ...  ...        ...    ...    ...      ...       ...\n",
              "886         0       2    1  27.000000      0      0  13.0000         2\n",
              "887         1       1    0  19.000000      0      0  30.0000         2\n",
              "888         0       3    0  29.699118      1      2  23.4500         2\n",
              "889         1       1    1  26.000000      0      0  30.0000         0\n",
              "890         0       3    1  32.000000      0      0   7.7500         1\n",
              "\n",
              "[891 rows x 8 columns]"
            ]
          },
          "execution_count": 23,
          "metadata": {},
          "output_type": "execute_result"
        }
      ],
      "source": [
        "df"
      ]
    },
    {
      "attachments": {},
      "cell_type": "markdown",
      "metadata": {
        "id": "gR4f4msxsud3"
      },
      "source": [
        "**Separating as Independent and dependent variables:**"
      ]
    },
    {
      "cell_type": "code",
      "execution_count": 24,
      "metadata": {
        "colab": {
          "base_uri": "https://localhost:8080/"
        },
        "id": "Eek6a6-Cs0Ez",
        "outputId": "4417d949-f6e5-4c59-a485-f19627123f5e"
      },
      "outputs": [
        {
          "name": "stdout",
          "output_type": "stream",
          "text": [
            "Shape of X: (891, 7)\n",
            "Shape of y: (891,)\n"
          ]
        }
      ],
      "source": [
        "X = df.drop(columns='Survived')\n",
        "y = df['Survived']\n",
        "print('Shape of X:',X.shape)\n",
        "print('Shape of y:',y.shape)"
      ]
    },
    {
      "attachments": {},
      "cell_type": "markdown",
      "metadata": {
        "id": "P5-CCD8YzoRD"
      },
      "source": [
        "**Scaling down feature columns: Using MinMaxScaler**"
      ]
    },
    {
      "cell_type": "code",
      "execution_count": 25,
      "metadata": {
        "colab": {
          "base_uri": "https://localhost:8080/"
        },
        "id": "7t48OYtlz3DZ",
        "outputId": "091bac52-4e8f-453d-a7be-2d6c1944b06d"
      },
      "outputs": [
        {
          "data": {
            "text/plain": [
              "array([[1.        , 1.        , 0.27117366, ..., 0.        , 0.01415106,\n",
              "        1.        ],\n",
              "       [0.        , 0.        , 0.4722292 , ..., 0.        , 0.13913574,\n",
              "        0.        ],\n",
              "       [1.        , 0.        , 0.32143755, ..., 0.        , 0.01546857,\n",
              "        1.        ],\n",
              "       ...,\n",
              "       [1.        , 0.        , 0.36792055, ..., 0.33333333, 0.04577135,\n",
              "        1.        ],\n",
              "       [0.        , 1.        , 0.32143755, ..., 0.        , 0.0585561 ,\n",
              "        0.        ],\n",
              "       [1.        , 1.        , 0.39683338, ..., 0.        , 0.01512699,\n",
              "        0.5       ]])"
            ]
          },
          "execution_count": 25,
          "metadata": {},
          "output_type": "execute_result"
        }
      ],
      "source": [
        "from sklearn.preprocessing import MinMaxScaler\n",
        "mms = MinMaxScaler()\n",
        "X_scaled = mms.fit_transform(X)\n",
        "X_scaled"
      ]
    },
    {
      "attachments": {},
      "cell_type": "markdown",
      "metadata": {
        "id": "N6kCPMqQysH4"
      },
      "source": [
        "**Separating as Training Data  and Test Data:**"
      ]
    },
    {
      "cell_type": "code",
      "execution_count": 26,
      "metadata": {
        "id": "FMxtteTyy0kH"
      },
      "outputs": [],
      "source": [
        "from sklearn.model_selection import train_test_split\n",
        "X_train,X_test,y_train,y_test = train_test_split(X_scaled,y,test_size=0.3,random_state=1)\n"
      ]
    },
    {
      "cell_type": "code",
      "execution_count": 27,
      "metadata": {
        "colab": {
          "base_uri": "https://localhost:8080/"
        },
        "id": "TNdXQLcT1i7c",
        "outputId": "2a7d693a-79f4-4d92-bdc5-e1826b87d6c8"
      },
      "outputs": [
        {
          "name": "stdout",
          "output_type": "stream",
          "text": [
            "Shape of X_train: (623, 7)\n",
            "Shape of y_train: (623,)\n",
            "Shape of X_test: (268, 7)\n",
            "Shape of y_test: (268,)\n"
          ]
        }
      ],
      "source": [
        "print(\"Shape of X_train:\",X_train.shape)\n",
        "print(\"Shape of y_train:\",y_train.shape)\n",
        "print('Shape of X_test:',X_test.shape)\n",
        "print('Shape of y_test:',y_test.shape)"
      ]
    },
    {
      "attachments": {},
      "cell_type": "markdown",
      "metadata": {
        "id": "hr0pKtl81qfz"
      },
      "source": [
        "# **Machine Learning Model Building:**"
      ]
    },
    {
      "attachments": {},
      "cell_type": "markdown",
      "metadata": {
        "id": "qthV_Reu1wVh"
      },
      "source": [
        "As of now we have cleaned our data set , scaled it and we have separated the data set into training and testing data. Now moving on to build Machine Learning Model.\n",
        "\n",
        "\n",
        "> **ML - Models:**\n",
        "\n",
        "*   **KNeighborClassifier**\n",
        "*   **Naive Bayes Classifier**\n",
        "\n",
        "*   **Decision Tree Classifier**\n",
        "*   **Support Vector Machine Classifier**\n",
        "\n",
        "*   **RandomForest Classifier**\n",
        "\n",
        "\n",
        "\n",
        "\n",
        "\n",
        "\n",
        "\n",
        "\n",
        "\n",
        "\n",
        "\n"
      ]
    },
    {
      "cell_type": "code",
      "execution_count": 28,
      "metadata": {
        "id": "CnJ9QaUOEQPX"
      },
      "outputs": [],
      "source": [
        "from sklearn.neighbors import KNeighborsClassifier\n",
        "from sklearn.tree import DecisionTreeClassifier\n",
        "from sklearn.naive_bayes import GaussianNB\n",
        "from sklearn.svm import SVC\n",
        "from sklearn.ensemble import  RandomForestClassifier\n",
        "from sklearn.metrics import classification_report,ConfusionMatrixDisplay"
      ]
    },
    {
      "cell_type": "code",
      "execution_count": 29,
      "metadata": {},
      "outputs": [],
      "source": [
        "knn_model = KNeighborsClassifier()\n",
        "svc_model = SVC()\n",
        "nb_model = GaussianNB()\n",
        "dtree_model = DecisionTreeClassifier(criterion='entropy')\n",
        "rf_model = RandomForestClassifier()\n"
      ]
    },
    {
      "attachments": {},
      "cell_type": "markdown",
      "metadata": {},
      "source": [
        "### Training ML - Models"
      ]
    },
    {
      "cell_type": "code",
      "execution_count": 30,
      "metadata": {},
      "outputs": [
        {
          "name": "stdout",
          "output_type": "stream",
          "text": [
            "------------------------- KNeighborsClassifier -------------------------\n",
            "Classification Report:\n",
            "               precision    recall  f1-score   support\n",
            "\n",
            "           0       0.75      0.90      0.82       153\n",
            "           1       0.82      0.59      0.69       115\n",
            "\n",
            "    accuracy                           0.77       268\n",
            "   macro avg       0.78      0.75      0.75       268\n",
            "weighted avg       0.78      0.77      0.76       268\n",
            "\n",
            "------------------------- SVC -------------------------\n",
            "Classification Report:\n",
            "               precision    recall  f1-score   support\n",
            "\n",
            "           0       0.73      0.93      0.82       153\n",
            "           1       0.86      0.54      0.66       115\n",
            "\n",
            "    accuracy                           0.76       268\n",
            "   macro avg       0.80      0.74      0.74       268\n",
            "weighted avg       0.79      0.76      0.75       268\n",
            "\n",
            "------------------------- GaussianNB -------------------------\n",
            "Classification Report:\n",
            "               precision    recall  f1-score   support\n",
            "\n",
            "           0       0.78      0.82      0.80       153\n",
            "           1       0.74      0.70      0.72       115\n",
            "\n",
            "    accuracy                           0.76       268\n",
            "   macro avg       0.76      0.76      0.76       268\n",
            "weighted avg       0.76      0.76      0.76       268\n",
            "\n",
            "------------------------- DecisionTreeClassifier -------------------------\n",
            "Classification Report:\n",
            "               precision    recall  f1-score   support\n",
            "\n",
            "           0       0.76      0.86      0.80       153\n",
            "           1       0.77      0.63      0.70       115\n",
            "\n",
            "    accuracy                           0.76       268\n",
            "   macro avg       0.76      0.75      0.75       268\n",
            "weighted avg       0.76      0.76      0.76       268\n",
            "\n",
            "------------------------- RandomForestClassifier -------------------------\n",
            "Classification Report:\n",
            "               precision    recall  f1-score   support\n",
            "\n",
            "           0       0.76      0.88      0.81       153\n",
            "           1       0.79      0.63      0.70       115\n",
            "\n",
            "    accuracy                           0.77       268\n",
            "   macro avg       0.77      0.75      0.76       268\n",
            "weighted avg       0.77      0.77      0.76       268\n",
            "\n"
          ]
        }
      ],
      "source": [
        "models = [knn_model,svc_model,nb_model,dtree_model,rf_model]\n",
        "\n",
        "for model in models:\n",
        "    print(\"-\"*25,type(model).__name__,\"-\"*25)\n",
        "    model.fit(X_train,y_train)\n",
        "    y_pred = model.predict(X_test)\n",
        "    print(\"Classification Report:\\n\",classification_report(y_test,y_pred))"
      ]
    },
    {
      "cell_type": "code",
      "execution_count": 31,
      "metadata": {},
      "outputs": [
        {
          "data": {
            "text/html": [
              "<style type=\"text/css\">\n",
              "#T_04494_row4_col1 {\n",
              "  background: green;\n",
              "}\n",
              "</style>\n",
              "<table id=\"T_04494\">\n",
              "  <thead>\n",
              "    <tr>\n",
              "      <th class=\"blank level0\" >&nbsp;</th>\n",
              "      <th id=\"T_04494_level0_col0\" class=\"col_heading level0 col0\" >ML_Models</th>\n",
              "      <th id=\"T_04494_level0_col1\" class=\"col_heading level0 col1\" >Accuracy</th>\n",
              "    </tr>\n",
              "  </thead>\n",
              "  <tbody>\n",
              "    <tr>\n",
              "      <th id=\"T_04494_level0_row0\" class=\"row_heading level0 row0\" >0</th>\n",
              "      <td id=\"T_04494_row0_col0\" class=\"data row0 col0\" >KNeighborsClassifier</td>\n",
              "      <td id=\"T_04494_row0_col1\" class=\"data row0 col1\" >0.770000</td>\n",
              "    </tr>\n",
              "    <tr>\n",
              "      <th id=\"T_04494_level0_row1\" class=\"row_heading level0 row1\" >1</th>\n",
              "      <td id=\"T_04494_row1_col0\" class=\"data row1 col0\" >SVC</td>\n",
              "      <td id=\"T_04494_row1_col1\" class=\"data row1 col1\" >0.760000</td>\n",
              "    </tr>\n",
              "    <tr>\n",
              "      <th id=\"T_04494_level0_row2\" class=\"row_heading level0 row2\" >2</th>\n",
              "      <td id=\"T_04494_row2_col0\" class=\"data row2 col0\" >GaussianNB</td>\n",
              "      <td id=\"T_04494_row2_col1\" class=\"data row2 col1\" >0.760000</td>\n",
              "    </tr>\n",
              "    <tr>\n",
              "      <th id=\"T_04494_level0_row3\" class=\"row_heading level0 row3\" >3</th>\n",
              "      <td id=\"T_04494_row3_col0\" class=\"data row3 col0\" >DecisionTreeClassifier</td>\n",
              "      <td id=\"T_04494_row3_col1\" class=\"data row3 col1\" >0.760000</td>\n",
              "    </tr>\n",
              "    <tr>\n",
              "      <th id=\"T_04494_level0_row4\" class=\"row_heading level0 row4\" >4</th>\n",
              "      <td id=\"T_04494_row4_col0\" class=\"data row4 col0\" >RandomForestClassifier</td>\n",
              "      <td id=\"T_04494_row4_col1\" class=\"data row4 col1\" >0.780000</td>\n",
              "    </tr>\n",
              "  </tbody>\n",
              "</table>\n"
            ],
            "text/plain": [
              "<pandas.io.formats.style.Styler at 0x250bfaf78e0>"
            ]
          },
          "execution_count": 31,
          "metadata": {},
          "output_type": "execute_result"
        }
      ],
      "source": [
        "accuracy = [0.77,0.76,0.76,0.76, 0.78]\n",
        "ml_models = ['KNeighborsClassifier','SVC','GaussianNB','DecisionTreeClassifier','RandomForestClassifier']\n",
        "\n",
        "accu_df = pd.DataFrame({'ML_Models':ml_models,'Accuracy':accuracy})\n",
        "\n",
        "max_accu = accu_df['Accuracy'].max()\n",
        "\n",
        "accu_df_styled = accu_df.style.apply(lambda x:['background: green' if v == max_accu else \" \" for v in x],subset=pd.IndexSlice[:,['Accuracy']])\n",
        "accu_df_styled"
      ]
    },
    {
      "attachments": {},
      "cell_type": "markdown",
      "metadata": {},
      "source": [
        "#### Result: Out of 5 Machine Learning models used RandomForestClassifier algorithm gave highest accuracy 78%"
      ]
    },
    {
      "cell_type": "code",
      "execution_count": 32,
      "metadata": {},
      "outputs": [
        {
          "data": {
            "text/plain": [
              "0    549\n",
              "1    342\n",
              "Name: Survived, dtype: int64"
            ]
          },
          "execution_count": 32,
          "metadata": {},
          "output_type": "execute_result"
        }
      ],
      "source": [
        "df['Survived'].value_counts()"
      ]
    },
    {
      "attachments": {},
      "cell_type": "markdown",
      "metadata": {},
      "source": [
        "##### Note: The data set we are using is an imbalanced data set , so let us balance it using Random Over sampling technique."
      ]
    },
    {
      "attachments": {},
      "cell_type": "markdown",
      "metadata": {},
      "source": [
        "### Performing Random Over Sampling:"
      ]
    },
    {
      "cell_type": "code",
      "execution_count": 33,
      "metadata": {},
      "outputs": [],
      "source": [
        "from imblearn.over_sampling import SMOTE\n",
        "sm = SMOTE()\n",
        "\n",
        "X_over_sampled,y_over_sampled = sm.fit_resample(X,y)\n"
      ]
    },
    {
      "cell_type": "code",
      "execution_count": 34,
      "metadata": {},
      "outputs": [
        {
          "data": {
            "text/plain": [
              "0    549\n",
              "1    549\n",
              "Name: Survived, dtype: int64"
            ]
          },
          "execution_count": 34,
          "metadata": {},
          "output_type": "execute_result"
        }
      ],
      "source": [
        "y_over_sampled.value_counts()"
      ]
    },
    {
      "cell_type": "code",
      "execution_count": 35,
      "metadata": {},
      "outputs": [],
      "source": [
        "# Scaling it down:\n",
        "X_os_scaled = mms.fit_transform(X_over_sampled)"
      ]
    },
    {
      "cell_type": "code",
      "execution_count": 36,
      "metadata": {},
      "outputs": [
        {
          "name": "stdout",
          "output_type": "stream",
          "text": [
            "X_train shape: (823, 7)\n",
            "y_train shape: (823,)\n"
          ]
        }
      ],
      "source": [
        "X_os_train,X_os_test,y_os_train,y_os_test = train_test_split(X_os_scaled,y_over_sampled,test_size=0.25,random_state=1)\n",
        "print(\"X_train shape:\",X_os_train.shape)\n",
        "print(\"y_train shape:\",y_os_train.shape)"
      ]
    },
    {
      "attachments": {},
      "cell_type": "markdown",
      "metadata": {},
      "source": [
        "### Predictions after Over Sampling:"
      ]
    },
    {
      "cell_type": "code",
      "execution_count": 37,
      "metadata": {},
      "outputs": [],
      "source": [
        "knn_model2 = KNeighborsClassifier()\n",
        "svc_model2 = SVC()\n",
        "nb_model2 = GaussianNB()\n",
        "dtree_model2 = DecisionTreeClassifier(criterion='entropy')\n",
        "rf_model2 = RandomForestClassifier()"
      ]
    },
    {
      "cell_type": "code",
      "execution_count": 38,
      "metadata": {},
      "outputs": [
        {
          "name": "stdout",
          "output_type": "stream",
          "text": [
            "------------------------- KNeighborsClassifier -------------------------\n",
            "Classification Report:\n",
            "               precision    recall  f1-score   support\n",
            "\n",
            "           0       0.78      0.84      0.80       128\n",
            "           1       0.85      0.79      0.82       147\n",
            "\n",
            "    accuracy                           0.81       275\n",
            "   macro avg       0.81      0.81      0.81       275\n",
            "weighted avg       0.81      0.81      0.81       275\n",
            "\n",
            "------------------------- SVC -------------------------\n",
            "Classification Report:\n",
            "               precision    recall  f1-score   support\n",
            "\n",
            "           0       0.74      0.90      0.81       128\n",
            "           1       0.89      0.72      0.80       147\n",
            "\n",
            "    accuracy                           0.80       275\n",
            "   macro avg       0.81      0.81      0.80       275\n",
            "weighted avg       0.82      0.80      0.80       275\n",
            "\n",
            "------------------------- GaussianNB -------------------------\n",
            "Classification Report:\n",
            "               precision    recall  f1-score   support\n",
            "\n",
            "           0       0.74      0.82      0.78       128\n",
            "           1       0.83      0.75      0.79       147\n",
            "\n",
            "    accuracy                           0.78       275\n",
            "   macro avg       0.78      0.78      0.78       275\n",
            "weighted avg       0.79      0.78      0.78       275\n",
            "\n",
            "------------------------- DecisionTreeClassifier -------------------------\n",
            "Classification Report:\n",
            "               precision    recall  f1-score   support\n",
            "\n",
            "           0       0.79      0.82      0.80       128\n",
            "           1       0.84      0.81      0.82       147\n",
            "\n",
            "    accuracy                           0.81       275\n",
            "   macro avg       0.81      0.81      0.81       275\n",
            "weighted avg       0.82      0.81      0.81       275\n",
            "\n",
            "------------------------- RandomForestClassifier -------------------------\n"
          ]
        },
        {
          "name": "stdout",
          "output_type": "stream",
          "text": [
            "Classification Report:\n",
            "               precision    recall  f1-score   support\n",
            "\n",
            "           0       0.82      0.84      0.83       128\n",
            "           1       0.86      0.84      0.85       147\n",
            "\n",
            "    accuracy                           0.84       275\n",
            "   macro avg       0.84      0.84      0.84       275\n",
            "weighted avg       0.84      0.84      0.84       275\n",
            "\n"
          ]
        }
      ],
      "source": [
        "models = [knn_model2,svc_model2,nb_model2,dtree_model2,rf_model2]\n",
        "\n",
        "for model in models:\n",
        "    print(\"-\"*25,type(model).__name__,\"-\"*25)\n",
        "    model.fit(X_os_train,y_os_train)\n",
        "    y_pred_new = model.predict(X_os_test)\n",
        "    print(\"Classification Report:\\n\",classification_report(y_os_test,y_pred_new))"
      ]
    },
    {
      "cell_type": "code",
      "execution_count": 39,
      "metadata": {},
      "outputs": [
        {
          "data": {
            "text/html": [
              "<style type=\"text/css\">\n",
              "#T_829ab_row4_col1 {\n",
              "  background: green;\n",
              "}\n",
              "</style>\n",
              "<table id=\"T_829ab\">\n",
              "  <thead>\n",
              "    <tr>\n",
              "      <th class=\"blank level0\" >&nbsp;</th>\n",
              "      <th id=\"T_829ab_level0_col0\" class=\"col_heading level0 col0\" >Ml_models</th>\n",
              "      <th id=\"T_829ab_level0_col1\" class=\"col_heading level0 col1\" >Accu_after</th>\n",
              "    </tr>\n",
              "  </thead>\n",
              "  <tbody>\n",
              "    <tr>\n",
              "      <th id=\"T_829ab_level0_row0\" class=\"row_heading level0 row0\" >0</th>\n",
              "      <td id=\"T_829ab_row0_col0\" class=\"data row0 col0\" >KNeighborsClassifier</td>\n",
              "      <td id=\"T_829ab_row0_col1\" class=\"data row0 col1\" >0.820000</td>\n",
              "    </tr>\n",
              "    <tr>\n",
              "      <th id=\"T_829ab_level0_row1\" class=\"row_heading level0 row1\" >1</th>\n",
              "      <td id=\"T_829ab_row1_col0\" class=\"data row1 col0\" >SVC</td>\n",
              "      <td id=\"T_829ab_row1_col1\" class=\"data row1 col1\" >0.800000</td>\n",
              "    </tr>\n",
              "    <tr>\n",
              "      <th id=\"T_829ab_level0_row2\" class=\"row_heading level0 row2\" >2</th>\n",
              "      <td id=\"T_829ab_row2_col0\" class=\"data row2 col0\" >GaussianNB</td>\n",
              "      <td id=\"T_829ab_row2_col1\" class=\"data row2 col1\" >0.770000</td>\n",
              "    </tr>\n",
              "    <tr>\n",
              "      <th id=\"T_829ab_level0_row3\" class=\"row_heading level0 row3\" >3</th>\n",
              "      <td id=\"T_829ab_row3_col0\" class=\"data row3 col0\" >DecisionTreeClassifier</td>\n",
              "      <td id=\"T_829ab_row3_col1\" class=\"data row3 col1\" >0.780000</td>\n",
              "    </tr>\n",
              "    <tr>\n",
              "      <th id=\"T_829ab_level0_row4\" class=\"row_heading level0 row4\" >4</th>\n",
              "      <td id=\"T_829ab_row4_col0\" class=\"data row4 col0\" >RandomForestClassifier</td>\n",
              "      <td id=\"T_829ab_row4_col1\" class=\"data row4 col1\" >0.830000</td>\n",
              "    </tr>\n",
              "  </tbody>\n",
              "</table>\n"
            ],
            "text/plain": [
              "<pandas.io.formats.style.Styler at 0x250d16506d0>"
            ]
          },
          "execution_count": 39,
          "metadata": {},
          "output_type": "execute_result"
        }
      ],
      "source": [
        "acc_label = [0.82,0.80,0.77,0.78,0.83]\n",
        "ml = ['KNeighborsClassifier','SVC','GaussianNB','DecisionTreeClassifier','RandomForestClassifier']\n",
        "\n",
        "df_os = pd.DataFrame({'Ml_models':ml,'Accu_after':acc_label})\n",
        "\n",
        "max_accu2 = df_os['Accu_after'].max()\n",
        "\n",
        "df_os_styled = df_os.style.apply(lambda x:['background: green' if v == max_accu2 else \" \" for v in x],subset=pd.IndexSlice[:,['Accu_after']])\n",
        "df_os_styled"
      ]
    },
    {
      "attachments": {},
      "cell_type": "markdown",
      "metadata": {},
      "source": [
        "#### Comparing Accuracy Before and After Over sampling:\n",
        "\n"
      ]
    },
    {
      "cell_type": "code",
      "execution_count": 40,
      "metadata": {},
      "outputs": [
        {
          "data": {
            "text/html": [
              "<style type=\"text/css\">\n",
              "#T_88c17_row4_col1, #T_88c17_row4_col2 {\n",
              "  background: green;\n",
              "}\n",
              "</style>\n",
              "<table id=\"T_88c17\">\n",
              "  <thead>\n",
              "    <tr>\n",
              "      <th class=\"blank level0\" >&nbsp;</th>\n",
              "      <th id=\"T_88c17_level0_col0\" class=\"col_heading level0 col0\" >ML_Models</th>\n",
              "      <th id=\"T_88c17_level0_col1\" class=\"col_heading level0 col1\" >Accuracy</th>\n",
              "      <th id=\"T_88c17_level0_col2\" class=\"col_heading level0 col2\" >Accu_after</th>\n",
              "    </tr>\n",
              "  </thead>\n",
              "  <tbody>\n",
              "    <tr>\n",
              "      <th id=\"T_88c17_level0_row0\" class=\"row_heading level0 row0\" >0</th>\n",
              "      <td id=\"T_88c17_row0_col0\" class=\"data row0 col0\" >KNeighborsClassifier</td>\n",
              "      <td id=\"T_88c17_row0_col1\" class=\"data row0 col1\" >0.770000</td>\n",
              "      <td id=\"T_88c17_row0_col2\" class=\"data row0 col2\" >0.820000</td>\n",
              "    </tr>\n",
              "    <tr>\n",
              "      <th id=\"T_88c17_level0_row1\" class=\"row_heading level0 row1\" >1</th>\n",
              "      <td id=\"T_88c17_row1_col0\" class=\"data row1 col0\" >SVC</td>\n",
              "      <td id=\"T_88c17_row1_col1\" class=\"data row1 col1\" >0.760000</td>\n",
              "      <td id=\"T_88c17_row1_col2\" class=\"data row1 col2\" >0.800000</td>\n",
              "    </tr>\n",
              "    <tr>\n",
              "      <th id=\"T_88c17_level0_row2\" class=\"row_heading level0 row2\" >2</th>\n",
              "      <td id=\"T_88c17_row2_col0\" class=\"data row2 col0\" >GaussianNB</td>\n",
              "      <td id=\"T_88c17_row2_col1\" class=\"data row2 col1\" >0.760000</td>\n",
              "      <td id=\"T_88c17_row2_col2\" class=\"data row2 col2\" >0.770000</td>\n",
              "    </tr>\n",
              "    <tr>\n",
              "      <th id=\"T_88c17_level0_row3\" class=\"row_heading level0 row3\" >3</th>\n",
              "      <td id=\"T_88c17_row3_col0\" class=\"data row3 col0\" >DecisionTreeClassifier</td>\n",
              "      <td id=\"T_88c17_row3_col1\" class=\"data row3 col1\" >0.760000</td>\n",
              "      <td id=\"T_88c17_row3_col2\" class=\"data row3 col2\" >0.780000</td>\n",
              "    </tr>\n",
              "    <tr>\n",
              "      <th id=\"T_88c17_level0_row4\" class=\"row_heading level0 row4\" >4</th>\n",
              "      <td id=\"T_88c17_row4_col0\" class=\"data row4 col0\" >RandomForestClassifier</td>\n",
              "      <td id=\"T_88c17_row4_col1\" class=\"data row4 col1\" >0.780000</td>\n",
              "      <td id=\"T_88c17_row4_col2\" class=\"data row4 col2\" >0.830000</td>\n",
              "    </tr>\n",
              "  </tbody>\n",
              "</table>\n"
            ],
            "text/plain": [
              "<pandas.io.formats.style.Styler at 0x250d1652d10>"
            ]
          },
          "execution_count": 40,
          "metadata": {},
          "output_type": "execute_result"
        }
      ],
      "source": [
        "data = pd.concat([accu_df,df_os['Accu_after']],axis=1)\n",
        "\n",
        "max1 = data['Accuracy'].max()\n",
        "max2 = data['Accu_after'].max()\n",
        "\n",
        "def highlight_max(column):\n",
        "    \"\"\"\n",
        "    Apply green background to the highest value in the column.\n",
        "    \"\"\"\n",
        "    is_max = column == column.max()\n",
        "    return ['background:green' if v else '' for v in is_max]\n",
        "\n",
        "df_compared =data.style.apply(highlight_max,subset=[data.columns[1],data.columns[2]])\n",
        "\n",
        "df_compared"
      ]
    },
    {
      "attachments": {},
      "cell_type": "markdown",
      "metadata": {},
      "source": [
        "### Performing Hyper-Parameter Tuning to improve the performance of the model:"
      ]
    },
    {
      "cell_type": "code",
      "execution_count": 41,
      "metadata": {},
      "outputs": [
        {
          "data": {
            "text/plain": [
              "\"from scipy.stats import randint\\nfrom sklearn.model_selection import RandomizedSearchCV\\n\\nrf_model3 = RandomForestClassifier()\\n\\nparam_distribution ={ 'max_depth':[3,5,10,None],\\n                     'n_estimators':[100,200,300,400,500],\\n                     'max_features':randint(1,3),\\n                     'criterion':['gini','entropy'],\\n                     'bootstrap':[True,False],\\n                     'min_samples_leaf':randint(1,4)}\\n\\nrandom_cv = RandomizedSearchCV(estimator=rf_model3,param_distributions= param_distribution,n_jobs=-1,cv=9)\\n\\nrandom_cv.fit(X_os_train,y_os_train)\\nbest_params = random_cv.best_params_\\nbest_score = random_cv.best_score_\\n\\nprint(best_params)\\nprint(best_score*100)\""
            ]
          },
          "execution_count": 41,
          "metadata": {},
          "output_type": "execute_result"
        }
      ],
      "source": [
        "# we will be using RandomSearch CV to find the best parameters for the model:\n",
        "# Out of 5 models RandomForest Classifier gave higher accuracy so we will be working on this \n",
        "# model to perform Hyperparameter tuning to improve the performance.\n",
        "'''from scipy.stats import randint\n",
        "from sklearn.model_selection import RandomizedSearchCV\n",
        "\n",
        "rf_model3 = RandomForestClassifier()\n",
        "\n",
        "param_distribution ={ 'max_depth':[3,5,10,None],\n",
        "                     'n_estimators':[100,200,300,400,500],\n",
        "                     'max_features':randint(1,3),\n",
        "                     'criterion':['gini','entropy'],\n",
        "                     'bootstrap':[True,False],\n",
        "                     'min_samples_leaf':randint(1,4)}\n",
        "\n",
        "random_cv = RandomizedSearchCV(estimator=rf_model3,param_distributions= param_distribution,n_jobs=-1,cv=9)\n",
        "\n",
        "random_cv.fit(X_os_train,y_os_train)\n",
        "best_params = random_cv.best_params_\n",
        "best_score = random_cv.best_score_\n",
        "\n",
        "print(best_params)\n",
        "print(best_score*100)'''"
      ]
    },
    {
      "attachments": {},
      "cell_type": "markdown",
      "metadata": {},
      "source": [
        "#### Best parameters after Hyper parameter Tuning:\n",
        "\n",
        "##### n_estimators = 400\n",
        "##### min_samples_leaf = 2\n",
        "##### max_features = 1\n",
        "##### max_depth = None\n",
        "##### criterion = gini\n",
        "##### bootstrap = False"
      ]
    },
    {
      "cell_type": "code",
      "execution_count": 42,
      "metadata": {},
      "outputs": [
        {
          "name": "stdout",
          "output_type": "stream",
          "text": [
            "Accuracy Score:\n",
            "               precision    recall  f1-score   support\n",
            "\n",
            "           0       0.81      0.80      0.81       128\n",
            "           1       0.83      0.84      0.83       147\n",
            "\n",
            "    accuracy                           0.82       275\n",
            "   macro avg       0.82      0.82      0.82       275\n",
            "weighted avg       0.82      0.82      0.82       275\n",
            "\n"
          ]
        }
      ],
      "source": [
        "rf_model4 = RandomForestClassifier(n_estimators=400,min_samples_leaf=2,max_features=1,max_depth=None,criterion='gini',bootstrap=False)\n",
        "\n",
        "rf_model4.fit(X_os_train,y_os_train)\n",
        "\n",
        "y_pred_ht = rf_model4.predict(X_os_test)\n",
        "\n",
        "print(\"Accuracy Score:\\n\",classification_report(y_os_test,y_pred_ht))"
      ]
    },
    {
      "attachments": {},
      "cell_type": "markdown",
      "metadata": {},
      "source": [
        "#### Result after Hyper parameter Tuning: The overall accuracy of our random forest classifier improved to 84%\n"
      ]
    },
    {
      "cell_type": "code",
      "execution_count": 43,
      "metadata": {},
      "outputs": [
        {
          "name": "stdout",
          "output_type": "stream",
          "text": [
            "<class 'numpy.ndarray'>\n"
          ]
        }
      ],
      "source": [
        "print(type(y_pred_ht))"
      ]
    },
    {
      "cell_type": "code",
      "execution_count": 44,
      "metadata": {},
      "outputs": [
        {
          "data": {
            "text/plain": [
              "1    148\n",
              "0    127\n",
              "Name: Survival, dtype: int64"
            ]
          },
          "execution_count": 44,
          "metadata": {},
          "output_type": "execute_result"
        }
      ],
      "source": [
        "prediction = pd.DataFrame(y_pred_ht,columns=['Survival'])\n",
        "prediction['Survival'].value_counts()"
      ]
    },
    {
      "cell_type": "code",
      "execution_count": 47,
      "metadata": {},
      "outputs": [
        {
          "data": {
            "image/png": "[encoded data removed]",
            "text/plain": [
              "<Figure size 500x400 with 1 Axes>"
            ]
          },
          "metadata": {},
          "output_type": "display_data"
        }
      ],
      "source": [
        "import matplotlib.pyplot as plt\n",
        "plt.figure(figsize=(5,4))\n",
        "labels=['Survived','Deceased']\n",
        "plt.pie(prediction['Survival'].value_counts(),labels=labels,autopct='%1.1f%%',startangle=90)\n",
        "plt.axis('equal')\n",
        "plt.title('ML Models: Survival Prediction')\n",
        "plt.show()"
      ]
    },
    {
      "attachments": {},
      "cell_type": "markdown",
      "metadata": {},
      "source": [
        "#### Thus from this Machine Learning Project we were able to predict the survival of passengers those who boarded Titanic ship.\n",
        "#### From the test data set out of 275 passengers only 50.2% passengers survived remaining ie 49.8% passengers perished."
      ]
    },
    {
      "cell_type": "code",
      "execution_count": 46,
      "metadata": {},
      "outputs": [
        {
          "data": {
            "text/plain": [
              "['RandomForestClassifier.pkl']"
            ]
          },
          "execution_count": 46,
          "metadata": {},
          "output_type": "execute_result"
        }
      ],
      "source": [
        "# creating the Pickle file for making the web application:\n",
        "import joblib\n",
        "\n",
        "# Save the trained model as a file\n",
        "joblib.dump(rf_model4,'RandomForestClassifier.pkl')"
      ]
    }
  ],
  "metadata": {
    "colab": {
      "provenance": []
    },
    "kernelspec": {
      "display_name": "Python 3",
      "name": "python3"
    },
    "language_info": {
      "codemirror_mode": {
        "name": "ipython",
        "version": 3
      },
      "file_extension": ".py",
      "mimetype": "text/x-python",
      "name": "python",
      "nbconvert_exporter": "python",
      "pygments_lexer": "ipython3",
      "version": "3.10.6"
    }
  },
  "nbformat": 4,
  "nbformat_minor": 0
}
